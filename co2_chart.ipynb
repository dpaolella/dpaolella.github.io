{
 "cells": [
  {
   "cell_type": "code",
   "execution_count": null,
   "metadata": {},
   "outputs": [],
   "source": [
    "import altair as alt\n",
    "import pandas as pd\n",
    "import numpy as np\n",
    "import geopandas as gpd\n",
    "import json"
   ]
  },
  {
   "cell_type": "code",
   "execution_count": null,
   "metadata": {},
   "outputs": [],
   "source": [
    "emisPop = pd.read_pickle('emisPop.pkl')\n",
    "emisPop = emisPop.loc[emisPop.year=='2014']"
   ]
  },
  {
   "cell_type": "code",
   "execution_count": null,
   "metadata": {},
   "outputs": [],
   "source": [
    "brush = alt.selection(type='interval')\n",
    "\n",
    "pts = alt.selection(type=\"single\", encodings=['x'])\n",
    "\n",
    "# the top scatterplot\n",
    "points = alt.Chart().mark_point().encode(\n",
    "    x=alt.X('popGrowth_5yr:Q', axis=alt.Axis(title='5-year Average Population Growth Rate (%)')),\n",
    "    y=alt.Y('co2perCap:Q', axis=alt.Axis(title='CO2 Emissions (metric tons per capita)')),\n",
    "    color=alt.condition(brush,\n",
    "                        alt.Color(\n",
    "                            'continent:N',\n",
    "                            legend=alt.Legend(\n",
    "                                title='Continent',\n",
    "                            )\n",
    "                        ),\n",
    "                        alt.value('lightgray'))\n",
    ").properties(\n",
    "    selection=brush,\n",
    "    width=800\n",
    ").transform_filter(\n",
    "    pts.ref()\n",
    ")\n",
    "\n",
    "# the bottom bar plot\n",
    "bars = alt.Chart().mark_bar().encode(\n",
    "    y=alt.Y('continent:N', axis=alt.Axis(title='Continent')),\n",
    "    color='continent:N',\n",
    "    x=alt.X('count(continent):Q', axis=alt.Axis(title='Number of Countries'))\n",
    ").transform_filter(\n",
    "    brush.ref() # the filter transform uses the selection\n",
    "                # to filter the input data to this chart\n",
    ").properties(\n",
    "    selection=pts,\n",
    "    width=550,\n",
    "    height=200\n",
    ")\n",
    "\n",
    "chart = alt.vconcat(points, bars, data=emisPop)\n",
    "chart.save('co2_chart.html')\n",
    "chart"
   ]
  },
  {
   "cell_type": "code",
   "execution_count": null,
   "metadata": {},
   "outputs": [],
   "source": [
    "json_state = (emisPop.rename(columns={'country':'name'})\n",
    "     .groupby(['continent'], as_index=True)\n",
    "     .apply(lambda x: x[['name', 'co2','co2perCap']].to_dict('r'))\n",
    "     .reset_index()\n",
    "     .rename(columns={0:'children', 'continent':'name'})\n",
    "     .to_json(orient='records'))\n",
    "\n",
    "with io.open('co2.json', 'w', encoding='utf8') as outfile:\n",
    "    str_out = json.dumps(json.loads(json_state), indent=2, sort_keys=True)\n",
    "    outfile.write('{\"children\":')\n",
    "    outfile.write(str_out)\n",
    "    outfile.write('}')"
   ]
  }
 ],
 "metadata": {
  "kernelspec": {
   "display_name": "Python 3",
   "language": "python",
   "name": "python3"
  },
  "language_info": {
   "codemirror_mode": {
    "name": "ipython",
    "version": 3
   },
   "file_extension": ".py",
   "mimetype": "text/x-python",
   "name": "python",
   "nbconvert_exporter": "python",
   "pygments_lexer": "ipython3",
   "version": "3.6.5"
  }
 },
 "nbformat": 4,
 "nbformat_minor": 2
}
